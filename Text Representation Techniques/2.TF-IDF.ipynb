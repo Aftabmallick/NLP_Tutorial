{
 "cells": [
  {
   "cell_type": "markdown",
   "metadata": {},
   "source": [
    "2. TF-IDF (Term Frequency-Inverse Document Frequency)\n",
    "In Natural Language Processing (NLP), Bag-of-Words (BoW) models, such as the one we explored earlier, are powerful for representing the frequency of words in documents. However, they have limitations. BoW doesn’t consider the significance of words in a document relative to the entire corpus(collection of documents). Some words may be frequent in many documents but may not carry much meaningful information.\n",
    "\n",
    "Here’s where TF-IDF comes into play. TF-IDF addresses the limitations of BoW by assigning weights to words based on their importance in a document relative to the entire collection of documents. It helps us identify words that are not only frequent in a document but also distinctive and informative for that document in the context of the entire corpus."
   ]
  },
  {
   "cell_type": "code",
   "execution_count": 5,
   "metadata": {},
   "outputs": [
    {
     "name": "stdout",
     "output_type": "stream",
     "text": [
      "Vocabulary: {'am': 1, 'aftab': 0, 'mallick': 7, 'interested': 3, 'in': 2, 'learning': 5, 'nlp': 8, 'know': 4, 'machine': 6}\n",
      "Feature Names: ['aftab' 'am' 'in' 'interested' 'know' 'learning' 'machine' 'mallick'\n",
      " 'nlp']\n",
      "Document terms: \n",
      "[[0.62276601 0.4736296  0.         0.         0.         0.\n",
      "  0.         0.62276601 0.        ]\n",
      " [0.         0.37302199 0.49047908 0.49047908 0.         0.37302199\n",
      "  0.         0.         0.49047908]\n",
      " [0.         0.         0.         0.         0.62276601 0.4736296\n",
      "  0.62276601 0.         0.        ]]\n"
     ]
    }
   ],
   "source": [
    "from sklearn.feature_extraction.text import TfidfVectorizer\n",
    "tftransformer = TfidfVectorizer()\n",
    "sample_text = [\"I am Aftab Mallick\",\n",
    "               \"I am Interested in learning NLP\",\n",
    "               \"I know Machine Learning\"]\n",
    "x_tftrans = tftransformer.fit_transform(sample_text)\n",
    "print(f\"Vocabulary: {tftransformer.vocabulary_}\")\n",
    "print(f\"Feature Names: {tftransformer.get_feature_names_out()}\")\n",
    "print(f\"Document terms: \\n{x_tftrans.toarray()}\")"
   ]
  },
  {
   "cell_type": "code",
   "execution_count": null,
   "metadata": {},
   "outputs": [],
   "source": []
  }
 ],
 "metadata": {
  "kernelspec": {
   "display_name": "Python 3",
   "language": "python",
   "name": "python3"
  },
  "language_info": {
   "codemirror_mode": {
    "name": "ipython",
    "version": 3
   },
   "file_extension": ".py",
   "mimetype": "text/x-python",
   "name": "python",
   "nbconvert_exporter": "python",
   "pygments_lexer": "ipython3",
   "version": "3.10.0"
  }
 },
 "nbformat": 4,
 "nbformat_minor": 2
}
