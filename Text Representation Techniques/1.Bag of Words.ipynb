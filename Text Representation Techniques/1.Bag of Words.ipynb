{
 "cells": [
  {
   "cell_type": "markdown",
   "metadata": {},
   "source": [
    "1. Bag-of-Words (BoW) Method\n",
    "The Bag of Words is a potent Natural Language Processing technique for text modeling, extracting features numerically simply, and flexibly, disregarding grammar and word order. Utilizing the CountVectorizer from Scikit-learn allows us to effortlessly create a Bag-of-Words."
   ]
  },
  {
   "cell_type": "code",
   "execution_count": 8,
   "metadata": {},
   "outputs": [
    {
     "name": "stdout",
     "output_type": "stream",
     "text": [
      "Vocabulary: {'am': 2, 'aftab': 0, 'mallick': 20, 'am aftab': 3, 'aftab mallick': 1, 'am aftab mallick': 4, 'interested': 10, 'in': 7, 'learning': 16, 'nlp': 21, 'am interested': 5, 'interested in': 11, 'in learning': 8, 'learning nlp': 17, 'am interested in': 6, 'interested in learning': 12, 'in learning nlp': 9, 'know': 13, 'machine': 18, 'know machine': 14, 'machine learning': 19, 'know machine learning': 15}\n",
      "Feature Names: ['aftab' 'aftab mallick' 'am' 'am aftab' 'am aftab mallick'\n",
      " 'am interested' 'am interested in' 'in' 'in learning' 'in learning nlp'\n",
      " 'interested' 'interested in' 'interested in learning' 'know'\n",
      " 'know machine' 'know machine learning' 'learning' 'learning nlp'\n",
      " 'machine' 'machine learning' 'mallick' 'nlp']\n",
      "Document terms: \n",
      "[[1 1 1 1 1 0 0 0 0 0 0 0 0 0 0 0 0 0 0 0 1 0]\n",
      " [0 0 1 0 0 1 1 1 1 1 1 1 1 0 0 0 1 1 0 0 0 1]\n",
      " [0 0 0 0 0 0 0 0 0 0 0 0 0 1 1 1 1 0 1 1 0 0]]\n"
     ]
    }
   ],
   "source": [
    "from sklearn.feature_extraction.text import CountVectorizer\n",
    "vectorizer=CountVectorizer(ngram_range=(1,3))\n",
    "sample_text = [\"I am Aftab Mallick\",\n",
    "               \"I am Interested in learning NLP\",\n",
    "               \"I know Machine Learning\"]\n",
    "x=vectorizer.fit_transform(sample_text)\n",
    "print(f\"Vocabulary: {vectorizer.vocabulary_}\")\n",
    "print(f\"Feature Names: {vectorizer.get_feature_names_out()}\")\n",
    "print(f\"Document terms: \\n{x.toarray()}\")"
   ]
  },
  {
   "cell_type": "markdown",
   "metadata": {},
   "source": [
    "Basic Manual coding for Bag of Words"
   ]
  },
  {
   "cell_type": "code",
   "execution_count": 28,
   "metadata": {},
   "outputs": [
    {
     "name": "stdout",
     "output_type": "stream",
     "text": [
      "Vocabulary: {'I': 0, 'know': 1, 'NLP': 2, 'Learning': 3, 'am': 4, 'Aftab': 5, 'Interested': 6, 'in': 7, 'Mallick': 8, 'learning': 9, 'Machine': 10}\n",
      "Document terms: \n",
      "[[1, 0, 0, 0, 1, 1, 0, 0, 1, 0, 0], [1, 0, 1, 0, 1, 0, 1, 1, 0, 1, 0], [1, 1, 0, 1, 0, 0, 0, 0, 0, 0, 1]]\n"
     ]
    }
   ],
   "source": [
    "sample_text = [\n",
    "    \"I am Aftab Mallick\",\n",
    "    \"I am Interested in learning NLP\",\n",
    "    \"I know Machine Learning\"\n",
    "]\n",
    "\n",
    "# Create a vocabulary list from the sample_text\n",
    "vocabulary = [word for sentence in sample_text for word in sentence.split()]\n",
    "\n",
    "# Convert the list to a set to remove duplicates, then back to a list to maintain ordering\n",
    "vocabulary = list(set(vocabulary))\n",
    "\n",
    "# Create a dictionary to map each word to an index\n",
    "vocabulary_dict = {word: i for i, word in enumerate(vocabulary)}\n",
    "\n",
    "# Initialize the sample_text_vector with zeros\n",
    "sample_text_vector = [[0] * len(vocabulary) for _ in range(len(sample_text))]\n",
    "\n",
    "# Fill in the sample_text_vector\n",
    "for i, sentence in enumerate(sample_text):\n",
    "    for word in sentence.split():\n",
    "        if word in vocabulary_dict:  # Check if the word is in the dictionary\n",
    "            sample_text_vector[i][vocabulary_dict[word]] = 1\n",
    "\n",
    "print(f\"Vocabulary: {vocabulary_dict}\")\n",
    "print(f\"Document terms: \\n{sample_text_vector}\")\n",
    "\n"
   ]
  },
  {
   "cell_type": "code",
   "execution_count": null,
   "metadata": {},
   "outputs": [],
   "source": []
  }
 ],
 "metadata": {
  "kernelspec": {
   "display_name": "Python 3",
   "language": "python",
   "name": "python3"
  },
  "language_info": {
   "codemirror_mode": {
    "name": "ipython",
    "version": 3
   },
   "file_extension": ".py",
   "mimetype": "text/x-python",
   "name": "python",
   "nbconvert_exporter": "python",
   "pygments_lexer": "ipython3",
   "version": "3.10.0"
  }
 },
 "nbformat": 4,
 "nbformat_minor": 2
}
